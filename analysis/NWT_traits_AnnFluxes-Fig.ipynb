{
 "cells": [
  {
   "cell_type": "markdown",
   "id": "ae9a1081-0129-4d17-a82c-d1e16251ea8e",
   "metadata": {},
   "source": [
    "## Plant functional trait uncertainty outweighs climate change uncertainty in tundra ecosystems\n",
    "#### This notebook calculates annual fluxes using Community Land Model simulations of Niwot Ridge and partitions uncertainty between model experiments as described in the manuscript 'Plant functional trait uncertainty outweighs climate change uncertainty in tundra ecosystems'"
   ]
  },
  {
   "cell_type": "markdown",
   "id": "e2946efe-e0de-4c1f-aa27-5d71d60d3652",
   "metadata": {},
   "source": [
    "### Load packages"
   ]
  },
  {
   "cell_type": "code",
   "execution_count": 1,
   "id": "17484518-017f-422b-a4cb-c4552fa565ff",
   "metadata": {},
   "outputs": [],
   "source": [
    "import xarray as xr\n",
    "import numpy as np\n",
    "import pandas as pd\n",
    "import utils\n",
    "from scipy import signal,stats\n",
    "import cftime\n",
    "import nc_time_axis\n",
    "import dask\n",
    "import functools\n",
    "#import cf_units as cf\n",
    "\n",
    "# some resources for plotting\n",
    "import matplotlib as mpl\n",
    "import matplotlib.pyplot as plt\n",
    "import matplotlib.colors as colors\n",
    "import matplotlib.lines as mlines\n",
    "import matplotlib.dates as mdates\n",
    "\n",
    "import matplotlib.colors as mcolors\n",
    "from matplotlib.pyplot import cm\n",
    "\n",
    "# suppress Runtime warnings that let you know when code isn't running too efficiently\n",
    "import warnings\n",
    "warnings.simplefilter(\"ignore\", category=RuntimeWarning)\n",
    "from distributed import wait\n",
    "\n",
    "%matplotlib inline"
   ]
  },
  {
   "cell_type": "code",
   "execution_count": 2,
   "id": "3b88dbd5-4b45-4386-a4ae-d17f1e9b2891",
   "metadata": {},
   "outputs": [],
   "source": [
    "# Updated for PBS scheduler\n",
    "# this could go into utils.\n",
    "# By default gets 1 core w/ 25 GB memory\n",
    "def get_ClusterClient(ncores=1, nmem='25GB'):\n",
    "    import dask\n",
    "    from dask_jobqueue import PBSCluster\n",
    "    from dask.distributed import Client\n",
    "    ncores=ncores\n",
    "    nmem = nmem\n",
    "\n",
    "    cluster = PBSCluster(\n",
    "        cores=ncores, # The number of cores you want\n",
    "        memory=nmem, # Amount of memory\n",
    "        processes=ncores, # How many processes\n",
    "        queue='casper', # The type of queue to utilize (/glade/u/apps/dav/opt/usr/bin/execcasper)\n",
    "        resource_spec='select=1:ncpus='+str(ncores)+':mem='+nmem, # Specify resources\n",
    "        project='P93300641', # Input your project ID here\n",
    "        walltime='4:00:00', # Amount of wall time\n",
    "        interface='ext', # Interface to use\n",
    "    )\n",
    "\n",
    "    dask.config.set({\n",
    "        'distributed.dashboard.link':\n",
    "        'https://jupyterhub.hpc.ucar.edu/stable/user/{USER}/proxy/{port}/status'\n",
    "    })\n",
    "\n",
    "    client = Client(cluster)\n",
    "    return cluster, client"
   ]
  },
  {
   "cell_type": "code",
   "execution_count": 3,
   "id": "579b122f-8026-46a3-ab93-f3ab960f59b8",
   "metadata": {},
   "outputs": [
    {
     "name": "stderr",
     "output_type": "stream",
     "text": [
      "/glade/work/jayka/opt/miniconda/envs/ctsm-py/lib/python3.7/site-packages/distributed/node.py:161: UserWarning: Port 8787 is already in use.\n",
      "Perhaps you already have a cluster running?\n",
      "Hosting the HTTP server on port 46161 instead\n",
      "  f\"Port {expected} is already in use.\\n\"\n"
     ]
    }
   ],
   "source": [
    "cluster, client = get_ClusterClient(nmem='2GB')\n",
    "cluster.scale(5)"
   ]
  },
  {
   "cell_type": "code",
   "execution_count": 4,
   "id": "df4bd34d-5cd3-4667-ac3b-e7cd7b37fe40",
   "metadata": {},
   "outputs": [
    {
     "data": {
      "application/vnd.jupyter.widget-view+json": {
       "model_id": "16c220d1f0374158a0daff80cc3add75",
       "version_major": 2,
       "version_minor": 0
      },
      "text/plain": [
       "Tab(children=(HTML(value='<div class=\"jp-RenderedHTMLCommon jp-RenderedHTML jp-mod-trusted jp-OutputArea-outpu…"
      ]
     },
     "metadata": {},
     "output_type": "display_data"
    }
   ],
   "source": [
    "cluster"
   ]
  },
  {
   "cell_type": "markdown",
   "id": "636a12c9-4a83-4800-9c25-596c958b7ed1",
   "metadata": {},
   "source": [
    "### Read in CLM model output"
   ]
  },
  {
   "cell_type": "markdown",
   "id": "178ff642-274a-48d5-a292-cb8be8a19efc",
   "metadata": {},
   "source": [
    "#### First point to files"
   ]
  },
  {
   "cell_type": "code",
   "execution_count": 4,
   "id": "e527e7f5-4951-4ee1-919e-6a9d0a888114",
   "metadata": {},
   "outputs": [
    {
     "name": "stdout",
     "output_type": "stream",
     "text": [
      "/glade/derecho/scratch/jayka/archive/NEON_NIWO_saddle_updated_snow_soils_H2OSFC_expt3_micro_sigma_trans/lnd/hist/NEON_NIWO_saddle_updated_snow_soils_H2OSFC_expt3_micro_sigma_trans.clm2.h1.2021-01-01-00000.nc\n"
     ]
    }
   ],
   "source": [
    "# Niwot LTER  simulations\n",
    "# H1 files dimensioned time x column or time x pft\n",
    "path = '/glade/derecho/scratch/jayka/archive/' # path to files\n",
    "cases = ['NEON_NIWO_saddle_updated_snow_soils_H2OSFC_expt3_micro_sigma_trans','NEON_NIWO_saddle_updated_SSP370','NEON_NIWO_saddle_updated_TraitExp1.1_SSP370','NEON_NIWO_saddle_updated_TraitExp1.3_SSP370'] # case names\n",
    "\n",
    "rollHour = -12  \n",
    "years = range(2008,2022)\n",
    "years2 = range(2022,2100)\n",
    "years3 = range(2087,2100)\n",
    "nmon = 12\n",
    "\n",
    "# create a list of the files we'll open for each case\n",
    "finSaddle = [path + cases[0] +'/lnd/hist/'+cases[0]+'.clm2.h1.'+str(years[i]) +'-01-01-00000.nc' \\\n",
    "           for i in range(len(years)) ]\n",
    "finSadAnom = [path + cases[1] +'/lnd/hist/'+cases[1]+'.clm2.h1.'+str(years2[i]) +'-01-01-00000.nc' \\\n",
    "           for i in range(len(years2)) ]\n",
    "finTraitExpt1 = [path + cases[2] +'/lnd/hist/'+cases[2]+'.clm2.h1.'+str(years2[i]) +'-01-01-00000.nc' \\\n",
    "           for i in range(len(years2)) ]\n",
    "finTraitExpt2 = [path + cases[3] +'/lnd/hist/'+cases[3]+'.clm2.h1.'+str(years2[i]) +'-01-01-00000.nc' \\\n",
    "           for i in range(len(years2)) ]\n",
    "\n",
    "# print the last year of data loaded\n",
    "print(finSaddle[-1])"
   ]
  },
  {
   "cell_type": "code",
   "execution_count": 5,
   "id": "73ba4deb-c139-4d48-a7e6-b6cc4fc5716e",
   "metadata": {},
   "outputs": [],
   "source": [
    "# Niwot LTER  simulations\n",
    "# H1 files dimensioned time x column or time x pft\n",
    "path = '/glade/derecho/scratch/jayka/archive/' # path to files\n",
    "cases = ['NEON_NIWO_saddle_updated_snow_soils_H2OSFC_expt3_micro_sigma_trans','NEON_NIWO_saddle_updated_SSP245','NEON_NIWO_saddle_updated_TraitExp1.1_SSP245','NEON_NIWO_saddle_updated_TraitExp1.3_SSP245'] # case names\n",
    "\n",
    "rollHour = -12  \n",
    "years = range(2008,2022)\n",
    "years2 = range(2022,2100)\n",
    "nmon = 12\n",
    "\n",
    "# create a list of the files we'll open for each case\n",
    "finSaddle = [path + cases[0] +'/lnd/hist/'+cases[0]+'.clm2.h1.'+str(years[i]) +'-01-01-00000.nc' \\\n",
    "           for i in range(len(years)) ]\n",
    "finSadAnomSSP = [path + cases[1] +'/lnd/hist/'+cases[1]+'.clm2.h1.'+str(years2[i]) +'-01-01-00000.nc' \\\n",
    "           for i in range(len(years2)) ]\n",
    "finTraitExpt1SSP = [path + cases[2] +'/lnd/hist/'+cases[2]+'.clm2.h1.'+str(years2[i]) +'-01-01-00000.nc' \\\n",
    "           for i in range(len(years2)) ]\n",
    "finTraitExpt2SSP = [path + cases[3] +'/lnd/hist/'+cases[3]+'.clm2.h1.'+str(years2[i]) +'-01-01-00000.nc' \\\n",
    "           for i in range(len(years2)) ]"
   ]
  },
  {
   "cell_type": "code",
   "execution_count": 6,
   "id": "8a59cb34-7c0a-46eb-a282-b227a5253ac0",
   "metadata": {},
   "outputs": [],
   "source": [
    "# combine transient and forced cases\n",
    "fileSaddle = finSaddle + finSadAnom\n",
    "fileTraitExpt1 = finSaddle + finTraitExpt1\n",
    "fileTraitExpt2 = finSaddle + finTraitExpt2"
   ]
  },
  {
   "cell_type": "code",
   "execution_count": 7,
   "id": "cb1f3617-cbfb-4a7e-91d2-61a4e4b01078",
   "metadata": {},
   "outputs": [],
   "source": [
    "# combine transient and forced cases (load in anom years only)\n",
    "fileSaddle = finSadAnom\n",
    "fileTraitExpt1 = finTraitExpt1\n",
    "fileTraitExpt2 = finTraitExpt2"
   ]
  },
  {
   "cell_type": "code",
   "execution_count": 8,
   "id": "86b94c5f-1653-4fff-864b-acbbaa1588ef",
   "metadata": {},
   "outputs": [],
   "source": [
    "# combine transient and forced cases\n",
    "fileSaddle2 = finSaddle + finSadAnomSSP\n",
    "fileSSP1 = finSaddle + finTraitExpt1SSP\n",
    "fileSSP2 = finSaddle + finTraitExpt2SSP"
   ]
  },
  {
   "cell_type": "code",
   "execution_count": 9,
   "id": "ca17a0d1-4969-4b38-8308-1b4f06393020",
   "metadata": {},
   "outputs": [],
   "source": [
    "# combine transient and forced cases (load in anom years only)\n",
    "fileSaddle2 = finSadAnomSSP\n",
    "fileSSP1 = finTraitExpt1SSP\n",
    "fileSSP2 = finTraitExpt2SSP"
   ]
  },
  {
   "cell_type": "markdown",
   "id": "b618989d-635d-4a74-8f14-32a5ef0bccac",
   "metadata": {},
   "source": [
    "#### Read in data with preprocessing"
   ]
  },
  {
   "cell_type": "code",
   "execution_count": 10,
   "id": "d9901836-56ec-4578-b414-d1163f5b16b3",
   "metadata": {},
   "outputs": [
    {
     "name": "stdout",
     "output_type": "stream",
     "text": [
      "-- your data have been read in -- \n"
     ]
    }
   ],
   "source": [
    "# define the history variables to read in\n",
    "#fields = ['AGNPP','AR','BTRANMN','ELAI', 'FCEV','FCTR','FGEV','FIRA','FSA','FSR','FSH','FSDS','GPP','H2OSOI','HR','RAIN','SNOW','SNOW_DEPTH','TBOT','TSOI','QLATFLOWOUT','pft']\n",
    "fields = ['AGNPP','AR','BTRANMN','ELAI','GPP','HR','TBOT','pft']\n",
    "\n",
    "def preprocess(ds, fields):\n",
    "    '''Selects the variables we want to read in'''\n",
    "    \n",
    "    return ds[fields]\n",
    "\n",
    "# open the datasets -- two for each case\n",
    "dsSad = xr.open_mfdataset(finSaddle, decode_times=True, \n",
    "                                 preprocess=functools.partial(preprocess, fields=fields))\n",
    "\n",
    "dsSadAnom = xr.open_mfdataset(fileSaddle, decode_times=True, \n",
    "                                 preprocess=functools.partial(preprocess, fields=fields))\n",
    "\n",
    "dsTraitExpt1 = xr.open_mfdataset(fileTraitExpt1, decode_times=True, \n",
    "                                 preprocess=functools.partial(preprocess, fields=fields))\n",
    "\n",
    "dsTraitExpt2 = xr.open_mfdataset(fileTraitExpt2, decode_times=True, \n",
    "                                 preprocess=functools.partial(preprocess, fields=fields))\n",
    "\n",
    "print('-- your data have been read in -- ')"
   ]
  },
  {
   "cell_type": "code",
   "execution_count": 11,
   "id": "e4e72fa8-891c-498d-9e25-0c2d730b53f4",
   "metadata": {},
   "outputs": [
    {
     "name": "stdout",
     "output_type": "stream",
     "text": [
      "-- your data have been read in -- \n"
     ]
    }
   ],
   "source": [
    "# define the history variables to read in\n",
    "#fields = ['AGNPP','AR','BTRANMN','ELAI', 'FCEV','FCTR','FGEV','FIRA','FSA','FSR','FSH','FSDS','GPP','H2OSOI','HR','RAIN','SNOW','SNOW_DEPTH','TBOT','TSOI','QLATFLOWOUT','pft']\n",
    "fields = ['AGNPP','AR','BTRANMN','ELAI','GPP','HR','TBOT','pft']\n",
    "\n",
    "def preprocess(ds, fields):\n",
    "    '''Selects the variables we want to read in'''\n",
    "    \n",
    "    return ds[fields]\n",
    "\n",
    "# open the datasets\n",
    "\n",
    "dsSadAnomSSP = xr.open_mfdataset(fileSaddle2, decode_times=True, \n",
    "                                 preprocess=functools.partial(preprocess, fields=fields))\n",
    "\n",
    "dsSSP1 = xr.open_mfdataset(fileSSP1, decode_times=True, \n",
    "                                 preprocess=functools.partial(preprocess, fields=fields))\n",
    "\n",
    "dsSSP2 = xr.open_mfdataset(fileSSP2, decode_times=True, \n",
    "                                 preprocess=functools.partial(preprocess, fields=fields))\n",
    "\n",
    "print('-- your data have been read in -- ')"
   ]
  },
  {
   "cell_type": "code",
   "execution_count": 12,
   "id": "53d7f6cb-6416-446a-bd5c-da8ae9b4e725",
   "metadata": {},
   "outputs": [],
   "source": [
    "# Combine pft and column coordinates\n",
    "dsSad = dsSad.rename({'pft':'column'})\n",
    "dsSadAnom = dsSadAnom.rename({'pft':'column'})\n",
    "dsTraitExpt1 = dsTraitExpt1.rename({'pft':'column'})\n",
    "dsTraitExpt2 = dsTraitExpt2.rename({'pft':'column'})"
   ]
  },
  {
   "cell_type": "code",
   "execution_count": 13,
   "id": "19cc0f4f-e36b-4b05-afdc-494d6306d8c8",
   "metadata": {},
   "outputs": [],
   "source": [
    "# Combine pft and column coordinates\n",
    "dsSadSSP = dsSadAnomSSP.rename({'pft':'column'})\n",
    "dsSSP1 = dsSSP1.rename({'pft':'column'})\n",
    "dsSSP2 = dsSSP2.rename({'pft':'column'})"
   ]
  },
  {
   "cell_type": "code",
   "execution_count": 14,
   "id": "a27cba5c-6ce3-4ce8-9a8f-0ef8fee85d5b",
   "metadata": {},
   "outputs": [],
   "source": [
    "# select the desired columns and rename them\n",
    "dsSad = dsSad.isel(column=[0,1,2]).assign_coords({\"column\": [\"mm\",\"wm\", \"dm\"]})\n",
    "dsSadAnom = dsSadAnom.isel(column=[0,1,2]).assign_coords({\"column\": [\"mm\",\"wm\", \"dm\"]})\n",
    "dsTraitExpt1 = dsTraitExpt1.isel(column=[0,1,2]).assign_coords({\"column\": [\"mm\",\"wm\", \"dm\"]})\n",
    "dsTraitExpt2 = dsTraitExpt2.isel(column=[0,1,2]).assign_coords({\"column\": [\"mm\",\"wm\", \"dm\"]})"
   ]
  },
  {
   "cell_type": "code",
   "execution_count": 15,
   "id": "087884df-ad7b-493b-a22c-afb3fdd8b13b",
   "metadata": {},
   "outputs": [],
   "source": [
    "# select the desired columns and rename them\n",
    "dsSadSSP = dsSadSSP.isel(column=[0,1,2]).assign_coords({\"column\": [\"mm\",\"wm\", \"dm\"]})\n",
    "dsSSP1 = dsSSP1.isel(column=[0,1,2]).assign_coords({\"column\": [\"mm\",\"wm\", \"dm\"]})\n",
    "dsSSP2 = dsSSP2.isel(column=[0,1,2]).assign_coords({\"column\": [\"mm\",\"wm\", \"dm\"]})"
   ]
  },
  {
   "cell_type": "code",
   "execution_count": 16,
   "id": "3890d960-cb01-48aa-931b-c50d45167189",
   "metadata": {},
   "outputs": [],
   "source": [
    "# Combine CLM datasets using 'sim' dimension to allow sorting and plotting by case\n",
    "ds1 = xr.concat([dsSadAnom,dsTraitExpt1,dsTraitExpt2], 'sim', data_vars='all')\n",
    "ds1 = ds1.assign_coords(sim=(\"sim\", ['control','acquis','cons']))"
   ]
  },
  {
   "cell_type": "code",
   "execution_count": 17,
   "id": "d1023cf2-ed88-4919-bd88-a795372a7610",
   "metadata": {},
   "outputs": [],
   "source": [
    "# Combine CLM datasets using 'sim' dimension to allow sorting and plotting by case\n",
    "ds2 = xr.concat([dsSadSSP,dsSSP1,dsSSP2], 'sim', data_vars='all')\n",
    "ds2 = ds2.assign_coords(sim=(\"sim\", ['control','acquis','cons']))"
   ]
  },
  {
   "cell_type": "code",
   "execution_count": 18,
   "id": "6e6bb64a-d906-4a06-acea-319f89417a90",
   "metadata": {},
   "outputs": [],
   "source": [
    "# Combine SSP370 and SSP245 cases to create a dataset dimensioned by column, trait sim, and SSP\n",
    "ds3 = xr.concat([ds1,ds2], 'expt', data_vars='all')\n",
    "ds3 = ds3.assign_coords(expt=(\"expt\", ['SSP370','SSP245']))"
   ]
  },
  {
   "cell_type": "code",
   "execution_count": 19,
   "id": "27ee5edd-b676-4fe4-b5ae-b0744552c788",
   "metadata": {},
   "outputs": [],
   "source": [
    "# For saving figs\n",
    "#out_dir = '/glade/u/home/jayka/NWT_CLM_plots/traits_figs/'"
   ]
  },
  {
   "cell_type": "markdown",
   "id": "90801512-aed7-43ae-9ff0-ef81692d81f3",
   "metadata": {},
   "source": [
    "#### Calculate annual GPP fluxes and uncertainty"
   ]
  },
  {
   "cell_type": "code",
   "execution_count": 20,
   "id": "86eab227-ced5-438d-b3ac-d76f1b6ec759",
   "metadata": {},
   "outputs": [],
   "source": [
    "# First convert CLM GPP units from g/m2/s to g/m2/y\n",
    "ds3['GPP'] = ds3.GPP * 3600 * 24 * 365\n",
    "ds3['GPP'].attrs['units'] = 'gC/m2/y'"
   ]
  },
  {
   "cell_type": "code",
   "execution_count": 2,
   "id": "1ee4eb48-c53a-4af2-b6f5-10a1a2759194",
   "metadata": {},
   "outputs": [],
   "source": [
    "#ds3.GPP.values"
   ]
  },
  {
   "cell_type": "code",
   "execution_count": 27,
   "id": "dc5ec63c-79b3-48c0-be09-af680697d2a5",
   "metadata": {},
   "outputs": [],
   "source": [
    "# calculate annual mean GPP for each expt x forcing combination (6 total)\n",
    "annGPP_ctrl_370 = ds3.GPP.sel(sim='control',expt='SSP370').groupby(ds3['time.year']).mean()\n",
    "annGPP_acquis_370 = ds3.GPP.sel(sim='acquis',expt='SSP370').groupby(ds3['time.year']).mean()\n",
    "annGPP_cons_370 = ds3.GPP.sel(sim='cons',expt='SSP370').groupby(ds3['time.year']).mean()\n",
    "annGPP_ctrl_245 = ds3.GPP.sel(sim='control',expt='SSP245').groupby(ds3['time.year']).mean()\n",
    "annGPP_acquis_245 = ds3.GPP.sel(sim='acquis',expt='SSP245').groupby(ds3['time.year']).mean()\n",
    "annGPP_cons_245 = ds3.GPP.sel(sim='cons',expt='SSP245').groupby(ds3['time.year']).mean() "
   ]
  },
  {
   "cell_type": "code",
   "execution_count": 28,
   "id": "986ed965-36d6-4f12-a966-076a58c88645",
   "metadata": {},
   "outputs": [],
   "source": [
    "# calculate multi model mean GPP for each forcing scenario\n",
    "x_370 = np.mean([annGPP_ctrl_370, annGPP_acquis_370, annGPP_cons_370], axis=0)\n",
    "x_245 = np.mean([annGPP_ctrl_245, annGPP_acquis_245, annGPP_cons_245], axis=0)"
   ]
  },
  {
   "cell_type": "code",
   "execution_count": 29,
   "id": "bb69a190-0738-4d43-a6e0-663210dda0e1",
   "metadata": {},
   "outputs": [],
   "source": [
    "# calculate multi model variance for each forcing scenario\n",
    "s2_370 = np.var([annGPP_ctrl_370, annGPP_acquis_370, annGPP_cons_370], axis=0)\n",
    "s2_245 = np.var([annGPP_ctrl_245, annGPP_acquis_245, annGPP_cons_245], axis=0)"
   ]
  },
  {
   "cell_type": "code",
   "execution_count": 30,
   "id": "ec942032-740d-4cd9-9e7a-ff7101269dbc",
   "metadata": {},
   "outputs": [],
   "source": [
    "# total uncertainty: variance of multi-model ensemble\n",
    "s2_total = np.var([annGPP_ctrl_370, annGPP_acquis_370, annGPP_cons_370, annGPP_ctrl_245, annGPP_acquis_245, annGPP_cons_245], axis=0)"
   ]
  },
  {
   "cell_type": "code",
   "execution_count": 31,
   "id": "1abef3a1-f6e1-4cf7-b502-8f46c69dcbea",
   "metadata": {},
   "outputs": [],
   "source": [
    "# climate uncertainty: variance of multi model means for each forcing scenario\n",
    "s2_clim = np.var([x_370, x_245], axis=0)"
   ]
  },
  {
   "cell_type": "code",
   "execution_count": 32,
   "id": "084ea84f-6109-4dd5-8620-de0dcd63feae",
   "metadata": {},
   "outputs": [],
   "source": [
    "# model uncertainty: mean of multi model variance for each forcing scenario\n",
    "s2_trait = np.mean([s2_370, s2_245], axis=0)"
   ]
  },
  {
   "cell_type": "code",
   "execution_count": 33,
   "id": "dbc1504c-3c9d-4ed3-9833-48eabf93f3e6",
   "metadata": {},
   "outputs": [],
   "source": [
    "# calculate proportional uncertainty (trait, forcing out of total)\n",
    "s2_clim_prop = s2_clim/s2_total\n",
    "s2_trait_prop = s2_trait/s2_total"
   ]
  },
  {
   "cell_type": "markdown",
   "id": "8dd4ace7-e73c-4b56-875e-419c07def71f",
   "metadata": {},
   "source": [
    "#### Calculate annual AGNPP fluxes and uncertainty"
   ]
  },
  {
   "cell_type": "code",
   "execution_count": 42,
   "id": "43ca944b-c173-4dd0-a529-4dd64aee109c",
   "metadata": {},
   "outputs": [],
   "source": [
    "# First convert CLM AGNPP units from g/m2/s to g/m2/y\n",
    "ds3['AGNPP'] = ds3.AGNPP * 3600 * 24 * 365\n",
    "ds3['AGNPP'].attrs['units'] = 'gC/m2/y'"
   ]
  },
  {
   "cell_type": "code",
   "execution_count": 43,
   "id": "8997a5de-ac9f-4e24-921d-87a04f3411b6",
   "metadata": {},
   "outputs": [],
   "source": [
    "# calculate annual mean AGNPP for each expt x forcing combination (6 total)\n",
    "annAGNPP_ctrl_370 = ds3.AGNPP.sel(sim='control',expt='SSP370').groupby(ds3['time.year']).mean()\n",
    "annAGNPP_acquis_370 = ds3.AGNPP.sel(sim='acquis',expt='SSP370').groupby(ds3['time.year']).mean()\n",
    "annAGNPP_cons_370 = ds3.AGNPP.sel(sim='cons',expt='SSP370').groupby(ds3['time.year']).mean()\n",
    "annAGNPP_ctrl_245 = ds3.AGNPP.sel(sim='control',expt='SSP245').groupby(ds3['time.year']).mean()\n",
    "annAGNPP_acquis_245 = ds3.AGNPP.sel(sim='acquis',expt='SSP245').groupby(ds3['time.year']).mean()\n",
    "annAGNPP_cons_245 = ds3.AGNPP.sel(sim='cons',expt='SSP245').groupby(ds3['time.year']).mean() "
   ]
  },
  {
   "cell_type": "code",
   "execution_count": 44,
   "id": "4a2f508f-4ecb-46f1-b657-f0e72a2e08a4",
   "metadata": {},
   "outputs": [],
   "source": [
    "# calculate multi model mean AGNPP for each forcing scenario\n",
    "x_370_AGNPP = np.mean([annAGNPP_ctrl_370, annAGNPP_acquis_370, annAGNPP_cons_370], axis=0)\n",
    "x_245_AGNPP = np.mean([annAGNPP_ctrl_245, annAGNPP_acquis_245, annAGNPP_cons_245], axis=0)"
   ]
  },
  {
   "cell_type": "code",
   "execution_count": 45,
   "id": "094cb6a5-1e32-4f71-92b0-35222081894b",
   "metadata": {},
   "outputs": [],
   "source": [
    "# calculate multi model variance for each forcing scenario\n",
    "s2_370_AGNPP = np.var([annAGNPP_ctrl_370, annAGNPP_acquis_370, annAGNPP_cons_370], axis=0)\n",
    "s2_245_AGNPP = np.var([annAGNPP_ctrl_245, annAGNPP_acquis_245, annAGNPP_cons_245], axis=0)"
   ]
  },
  {
   "cell_type": "code",
   "execution_count": 46,
   "id": "d42812d3-9ee0-4a5b-90d0-2aa9d66debbe",
   "metadata": {},
   "outputs": [],
   "source": [
    "# total uncertainty: variance of multi-model ensemble\n",
    "s2_total_AGNPP = np.var([annAGNPP_ctrl_370, annAGNPP_acquis_370, annAGNPP_cons_370, annAGNPP_ctrl_245, annAGNPP_acquis_245, annAGNPP_cons_245], axis=0)"
   ]
  },
  {
   "cell_type": "code",
   "execution_count": 47,
   "id": "56fd1f05-f115-4c52-8096-520500982fce",
   "metadata": {},
   "outputs": [],
   "source": [
    "# climate uncertainty: variance of multi model means for each forcing scenario\n",
    "s2_clim_AGNPP = np.var([x_370_AGNPP, x_245_AGNPP], axis=0)"
   ]
  },
  {
   "cell_type": "code",
   "execution_count": 48,
   "id": "cf37ec61-0f8a-40db-baa7-3d05762819a1",
   "metadata": {},
   "outputs": [],
   "source": [
    "# model uncertainty: mean of multi model variance for each forcing scenario\n",
    "s2_trait_AGNPP = np.mean([s2_370_AGNPP, s2_245_AGNPP], axis=0)"
   ]
  },
  {
   "cell_type": "code",
   "execution_count": 49,
   "id": "98b9b974-d0ca-4ff3-af18-c8c66e12f49a",
   "metadata": {},
   "outputs": [],
   "source": [
    "# calculate proportional uncertainty (trait, forcing out of total)\n",
    "s2_clim_prop_AGNPP = s2_clim_AGNPP/s2_total_AGNPP\n",
    "s2_trait_prop_AGNPP = s2_trait_AGNPP/s2_total_AGNPP"
   ]
  },
  {
   "cell_type": "markdown",
   "id": "6e4499ab-7c15-4f36-84e3-1554598c0e1b",
   "metadata": {},
   "source": [
    "### Plotting uncertainty in carbon cycle metrics \n",
    "#### First GPP, then ANPP (Figure 6)"
   ]
  },
  {
   "cell_type": "code",
   "execution_count": 61,
   "id": "61413c8a-18b0-4d59-8b67-5dd070bcbf11",
   "metadata": {},
   "outputs": [],
   "source": [
    "#mpl.rcParams['axes.prop_cycle'] = mpl.cycler(color=[\"tab:green\", \"tab:blue\", \"tab:orange\"]) "
   ]
  },
  {
   "cell_type": "code",
   "execution_count": null,
   "id": "d23af8df-c29c-49c4-b3e1-4380937febdf",
   "metadata": {},
   "outputs": [],
   "source": [
    "# create a dataset of uncertainty values by community"
   ]
  },
  {
   "cell_type": "code",
   "execution_count": 50,
   "id": "025e7992-403c-4ba3-9975-00d295b968d3",
   "metadata": {},
   "outputs": [],
   "source": [
    "col_names = ['MM_s2_trait','WM_s2_trait','DM_s2_trait']\n",
    "row_names = np.arange(2022, 2100)\n",
    "ds_s2_trait = pd.DataFrame(s2_trait,  index=row_names, columns=col_names)\n"
   ]
  },
  {
   "cell_type": "code",
   "execution_count": 51,
   "id": "fac42dd1-7468-476c-b8ae-5a8b54db6da2",
   "metadata": {},
   "outputs": [],
   "source": [
    "col_names = ['MM_s2_clim','WM_s2_clim','DM_s2_clim']\n",
    "row_names = np.arange(2022, 2100)\n",
    "ds_s2_clim = pd.DataFrame(s2_clim,  index=row_names, columns=col_names)"
   ]
  },
  {
   "cell_type": "code",
   "execution_count": 52,
   "id": "f502be4a-b370-4105-9f25-11755409c7b2",
   "metadata": {},
   "outputs": [],
   "source": [
    "col_names = ['MM_s2_total','WM_s2_total','DM_s2_total']\n",
    "row_names = np.arange(2022, 2100)\n",
    "ds_s2_total = pd.DataFrame(s2_total,  index=row_names, columns=col_names)"
   ]
  },
  {
   "cell_type": "code",
   "execution_count": 53,
   "id": "e6258ec3-10e4-471b-8d5c-b5f40e3d1b32",
   "metadata": {},
   "outputs": [],
   "source": [
    "col_names = ['MM_s2_clim_prop','WM_s2_clim_prop','DM_s2_clim_prop']\n",
    "row_names = np.arange(2022, 2100)\n",
    "ds_s2_clim_prop = pd.DataFrame(s2_clim_prop,  index=row_names, columns=col_names)"
   ]
  },
  {
   "cell_type": "code",
   "execution_count": 54,
   "id": "7d4036da-7823-4884-a2cf-98089d573d3d",
   "metadata": {},
   "outputs": [],
   "source": [
    "col_names = ['MM_s2_trait_prop','WM_s2_trait_prop','DM_s2_trait_prop']\n",
    "row_names = np.arange(2022, 2100)\n",
    "ds_s2_trait_prop = pd.DataFrame(s2_trait_prop,  index=row_names, columns=col_names)"
   ]
  },
  {
   "cell_type": "code",
   "execution_count": 55,
   "id": "d3e9a89b-bd3e-455b-b228-a9c9b1e2e0e6",
   "metadata": {},
   "outputs": [],
   "source": [
    "ds = pd.concat([ds_s2_total, ds_s2_trait, ds_s2_clim, ds_s2_clim_prop, ds_s2_trait_prop], axis=1)"
   ]
  },
  {
   "cell_type": "code",
   "execution_count": 39,
   "id": "6b91d37a-9935-4dd3-9aec-a1810171f7b0",
   "metadata": {},
   "outputs": [
    {
     "data": {
      "text/html": [
       "<div>\n",
       "<style scoped>\n",
       "    .dataframe tbody tr th:only-of-type {\n",
       "        vertical-align: middle;\n",
       "    }\n",
       "\n",
       "    .dataframe tbody tr th {\n",
       "        vertical-align: top;\n",
       "    }\n",
       "\n",
       "    .dataframe thead th {\n",
       "        text-align: right;\n",
       "    }\n",
       "</style>\n",
       "<table border=\"1\" class=\"dataframe\">\n",
       "  <thead>\n",
       "    <tr style=\"text-align: right;\">\n",
       "      <th></th>\n",
       "      <th>MM_s2_total</th>\n",
       "      <th>WM_s2_total</th>\n",
       "      <th>DM_s2_total</th>\n",
       "      <th>MM_s2_trait</th>\n",
       "      <th>WM_s2_trait</th>\n",
       "      <th>DM_s2_trait</th>\n",
       "      <th>MM_s2_clim</th>\n",
       "      <th>WM_s2_clim</th>\n",
       "      <th>DM_s2_clim</th>\n",
       "      <th>MM_s2_clim_prop</th>\n",
       "      <th>WM_s2_clim_prop</th>\n",
       "      <th>DM_s2_clim_prop</th>\n",
       "      <th>MM_s2_trait_prop</th>\n",
       "      <th>WM_s2_trait_prop</th>\n",
       "      <th>DM_s2_trait_prop</th>\n",
       "    </tr>\n",
       "  </thead>\n",
       "  <tbody>\n",
       "    <tr>\n",
       "      <th>2022</th>\n",
       "      <td>84.439064</td>\n",
       "      <td>63.029316</td>\n",
       "      <td>346.633179</td>\n",
       "      <td>76.551430</td>\n",
       "      <td>2.617137</td>\n",
       "      <td>346.624268</td>\n",
       "      <td>7.887642</td>\n",
       "      <td>60.412334</td>\n",
       "      <td>0.008937</td>\n",
       "      <td>0.093412</td>\n",
       "      <td>0.958480</td>\n",
       "      <td>0.000026</td>\n",
       "      <td>0.906588</td>\n",
       "      <td>0.041523</td>\n",
       "      <td>0.999974</td>\n",
       "    </tr>\n",
       "    <tr>\n",
       "      <th>2023</th>\n",
       "      <td>199.358383</td>\n",
       "      <td>523.607056</td>\n",
       "      <td>1169.271118</td>\n",
       "      <td>173.137115</td>\n",
       "      <td>57.788315</td>\n",
       "      <td>1169.020508</td>\n",
       "      <td>26.221226</td>\n",
       "      <td>465.817017</td>\n",
       "      <td>0.250473</td>\n",
       "      <td>0.131528</td>\n",
       "      <td>0.889631</td>\n",
       "      <td>0.000214</td>\n",
       "      <td>0.868472</td>\n",
       "      <td>0.110366</td>\n",
       "      <td>0.999786</td>\n",
       "    </tr>\n",
       "    <tr>\n",
       "      <th>2024</th>\n",
       "      <td>493.947388</td>\n",
       "      <td>390.404938</td>\n",
       "      <td>2287.291992</td>\n",
       "      <td>474.925781</td>\n",
       "      <td>200.628998</td>\n",
       "      <td>2285.679199</td>\n",
       "      <td>19.021450</td>\n",
       "      <td>189.777359</td>\n",
       "      <td>1.613105</td>\n",
       "      <td>0.038509</td>\n",
       "      <td>0.486104</td>\n",
       "      <td>0.000705</td>\n",
       "      <td>0.961491</td>\n",
       "      <td>0.513900</td>\n",
       "      <td>0.999295</td>\n",
       "    </tr>\n",
       "    <tr>\n",
       "      <th>2025</th>\n",
       "      <td>326.589752</td>\n",
       "      <td>453.726562</td>\n",
       "      <td>2913.322021</td>\n",
       "      <td>294.596039</td>\n",
       "      <td>309.195007</td>\n",
       "      <td>2909.633301</td>\n",
       "      <td>31.993683</td>\n",
       "      <td>144.531494</td>\n",
       "      <td>3.688679</td>\n",
       "      <td>0.097963</td>\n",
       "      <td>0.318543</td>\n",
       "      <td>0.001266</td>\n",
       "      <td>0.902037</td>\n",
       "      <td>0.681457</td>\n",
       "      <td>0.998734</td>\n",
       "    </tr>\n",
       "    <tr>\n",
       "      <th>2026</th>\n",
       "      <td>1255.640869</td>\n",
       "      <td>1789.203979</td>\n",
       "      <td>5307.049316</td>\n",
       "      <td>1233.411743</td>\n",
       "      <td>1786.118164</td>\n",
       "      <td>5302.118164</td>\n",
       "      <td>22.229031</td>\n",
       "      <td>3.085615</td>\n",
       "      <td>4.931726</td>\n",
       "      <td>0.017703</td>\n",
       "      <td>0.001725</td>\n",
       "      <td>0.000929</td>\n",
       "      <td>0.982297</td>\n",
       "      <td>0.998275</td>\n",
       "      <td>0.999071</td>\n",
       "    </tr>\n",
       "    <tr>\n",
       "      <th>...</th>\n",
       "      <td>...</td>\n",
       "      <td>...</td>\n",
       "      <td>...</td>\n",
       "      <td>...</td>\n",
       "      <td>...</td>\n",
       "      <td>...</td>\n",
       "      <td>...</td>\n",
       "      <td>...</td>\n",
       "      <td>...</td>\n",
       "      <td>...</td>\n",
       "      <td>...</td>\n",
       "      <td>...</td>\n",
       "      <td>...</td>\n",
       "      <td>...</td>\n",
       "      <td>...</td>\n",
       "    </tr>\n",
       "    <tr>\n",
       "      <th>2095</th>\n",
       "      <td>3980.453857</td>\n",
       "      <td>15841.703125</td>\n",
       "      <td>7514.561035</td>\n",
       "      <td>1008.788757</td>\n",
       "      <td>1355.895874</td>\n",
       "      <td>5044.172852</td>\n",
       "      <td>2971.665527</td>\n",
       "      <td>14485.798828</td>\n",
       "      <td>2470.388428</td>\n",
       "      <td>0.746565</td>\n",
       "      <td>0.914409</td>\n",
       "      <td>0.328747</td>\n",
       "      <td>0.253436</td>\n",
       "      <td>0.085590</td>\n",
       "      <td>0.671253</td>\n",
       "    </tr>\n",
       "    <tr>\n",
       "      <th>2096</th>\n",
       "      <td>9430.768555</td>\n",
       "      <td>16632.398438</td>\n",
       "      <td>11698.210938</td>\n",
       "      <td>2702.117188</td>\n",
       "      <td>2992.962891</td>\n",
       "      <td>7743.412598</td>\n",
       "      <td>6728.650391</td>\n",
       "      <td>13639.435547</td>\n",
       "      <td>3954.798828</td>\n",
       "      <td>0.713479</td>\n",
       "      <td>0.820052</td>\n",
       "      <td>0.338069</td>\n",
       "      <td>0.286521</td>\n",
       "      <td>0.179948</td>\n",
       "      <td>0.661931</td>\n",
       "    </tr>\n",
       "    <tr>\n",
       "      <th>2097</th>\n",
       "      <td>7383.058594</td>\n",
       "      <td>7624.615234</td>\n",
       "      <td>9838.573242</td>\n",
       "      <td>2551.650391</td>\n",
       "      <td>2302.633301</td>\n",
       "      <td>6767.608398</td>\n",
       "      <td>4831.408203</td>\n",
       "      <td>5321.984863</td>\n",
       "      <td>3070.963623</td>\n",
       "      <td>0.654391</td>\n",
       "      <td>0.698000</td>\n",
       "      <td>0.312135</td>\n",
       "      <td>0.345609</td>\n",
       "      <td>0.302000</td>\n",
       "      <td>0.687865</td>\n",
       "    </tr>\n",
       "    <tr>\n",
       "      <th>2098</th>\n",
       "      <td>10134.507812</td>\n",
       "      <td>14587.417969</td>\n",
       "      <td>11790.678711</td>\n",
       "      <td>2690.981689</td>\n",
       "      <td>2255.114746</td>\n",
       "      <td>7556.276855</td>\n",
       "      <td>7443.524414</td>\n",
       "      <td>12332.302734</td>\n",
       "      <td>4234.403809</td>\n",
       "      <td>0.734473</td>\n",
       "      <td>0.845407</td>\n",
       "      <td>0.359131</td>\n",
       "      <td>0.265527</td>\n",
       "      <td>0.154593</td>\n",
       "      <td>0.640869</td>\n",
       "    </tr>\n",
       "    <tr>\n",
       "      <th>2099</th>\n",
       "      <td>9449.584961</td>\n",
       "      <td>12127.971680</td>\n",
       "      <td>13100.645508</td>\n",
       "      <td>2727.250244</td>\n",
       "      <td>1997.214844</td>\n",
       "      <td>8347.393555</td>\n",
       "      <td>6722.335938</td>\n",
       "      <td>10130.752930</td>\n",
       "      <td>4753.251953</td>\n",
       "      <td>0.711390</td>\n",
       "      <td>0.835321</td>\n",
       "      <td>0.362826</td>\n",
       "      <td>0.288611</td>\n",
       "      <td>0.164678</td>\n",
       "      <td>0.637174</td>\n",
       "    </tr>\n",
       "  </tbody>\n",
       "</table>\n",
       "<p>78 rows × 15 columns</p>\n",
       "</div>"
      ],
      "text/plain": [
       "       MM_s2_total   WM_s2_total   DM_s2_total  MM_s2_trait  WM_s2_trait  \\\n",
       "2022     84.439064     63.029316    346.633179    76.551430     2.617137   \n",
       "2023    199.358383    523.607056   1169.271118   173.137115    57.788315   \n",
       "2024    493.947388    390.404938   2287.291992   474.925781   200.628998   \n",
       "2025    326.589752    453.726562   2913.322021   294.596039   309.195007   \n",
       "2026   1255.640869   1789.203979   5307.049316  1233.411743  1786.118164   \n",
       "...            ...           ...           ...          ...          ...   \n",
       "2095   3980.453857  15841.703125   7514.561035  1008.788757  1355.895874   \n",
       "2096   9430.768555  16632.398438  11698.210938  2702.117188  2992.962891   \n",
       "2097   7383.058594   7624.615234   9838.573242  2551.650391  2302.633301   \n",
       "2098  10134.507812  14587.417969  11790.678711  2690.981689  2255.114746   \n",
       "2099   9449.584961  12127.971680  13100.645508  2727.250244  1997.214844   \n",
       "\n",
       "      DM_s2_trait   MM_s2_clim    WM_s2_clim   DM_s2_clim  MM_s2_clim_prop  \\\n",
       "2022   346.624268     7.887642     60.412334     0.008937         0.093412   \n",
       "2023  1169.020508    26.221226    465.817017     0.250473         0.131528   \n",
       "2024  2285.679199    19.021450    189.777359     1.613105         0.038509   \n",
       "2025  2909.633301    31.993683    144.531494     3.688679         0.097963   \n",
       "2026  5302.118164    22.229031      3.085615     4.931726         0.017703   \n",
       "...           ...          ...           ...          ...              ...   \n",
       "2095  5044.172852  2971.665527  14485.798828  2470.388428         0.746565   \n",
       "2096  7743.412598  6728.650391  13639.435547  3954.798828         0.713479   \n",
       "2097  6767.608398  4831.408203   5321.984863  3070.963623         0.654391   \n",
       "2098  7556.276855  7443.524414  12332.302734  4234.403809         0.734473   \n",
       "2099  8347.393555  6722.335938  10130.752930  4753.251953         0.711390   \n",
       "\n",
       "      WM_s2_clim_prop  DM_s2_clim_prop  MM_s2_trait_prop  WM_s2_trait_prop  \\\n",
       "2022         0.958480         0.000026          0.906588          0.041523   \n",
       "2023         0.889631         0.000214          0.868472          0.110366   \n",
       "2024         0.486104         0.000705          0.961491          0.513900   \n",
       "2025         0.318543         0.001266          0.902037          0.681457   \n",
       "2026         0.001725         0.000929          0.982297          0.998275   \n",
       "...               ...              ...               ...               ...   \n",
       "2095         0.914409         0.328747          0.253436          0.085590   \n",
       "2096         0.820052         0.338069          0.286521          0.179948   \n",
       "2097         0.698000         0.312135          0.345609          0.302000   \n",
       "2098         0.845407         0.359131          0.265527          0.154593   \n",
       "2099         0.835321         0.362826          0.288611          0.164678   \n",
       "\n",
       "      DM_s2_trait_prop  \n",
       "2022          0.999974  \n",
       "2023          0.999786  \n",
       "2024          0.999295  \n",
       "2025          0.998734  \n",
       "2026          0.999071  \n",
       "...                ...  \n",
       "2095          0.671253  \n",
       "2096          0.661931  \n",
       "2097          0.687865  \n",
       "2098          0.640869  \n",
       "2099          0.637174  \n",
       "\n",
       "[78 rows x 15 columns]"
      ]
     },
     "execution_count": 39,
     "metadata": {},
     "output_type": "execute_result"
    }
   ],
   "source": [
    "ds"
   ]
  },
  {
   "cell_type": "code",
   "execution_count": 56,
   "id": "c17ba1be-8f09-4122-a35c-6e77f9d0c593",
   "metadata": {},
   "outputs": [],
   "source": [
    "plt.rcParams.update({'font.size': 18})"
   ]
  },
  {
   "cell_type": "code",
   "execution_count": 36,
   "id": "e165e9fb-0d08-4424-b758-9ada25a1da37",
   "metadata": {},
   "outputs": [
    {
     "data": {
      "image/png": "[encoded data removed]",
      "text/plain": [
       "<Figure size 432x1296 with 3 Axes>"
      ]
     },
     "metadata": {
      "needs_background": "light"
     },
     "output_type": "display_data"
    }
   ],
   "source": [
    "x=np.arange(2022, 2100)\n",
    "\n",
    "y1=ds.MM_s2_trait_prop\n",
    "y2=ds.MM_s2_clim_prop\n",
    "\n",
    "y3=ds.WM_s2_trait_prop\n",
    "y4=ds.WM_s2_clim_prop\n",
    "\n",
    "y5=ds.DM_s2_trait_prop\n",
    "y6=ds.DM_s2_clim_prop\n",
    "\n",
    "fig, axs = plt.subplots(3, 1,  gridspec_kw={'wspace': 0.15, 'hspace': 0.15}, figsize=(6,18))\n",
    "\n",
    "plt.subplot(3,1,1)\n",
    "plt.title('Moist Meadow', fontsize=16)\n",
    "plt.stackplot(x, y1, y2, colors =['tab:green','lightgray'], labels = ['Trait','Forcing']);\n",
    "plt.ylabel('Proportion of total variance', fontsize=16) \n",
    "plt.legend(fontsize=16,loc='upper right',bbox_to_anchor=(1.4, 1));\n",
    "plt.annotate('a)', xy=(2025, 0.05), \n",
    "                ha='center', va='center',size=20) ;\n",
    "plt.xlim([2022, 2099]);\n",
    "plt.ylim([0, 1]);\n",
    "\n",
    "plt.subplot(3,1,2)\n",
    "plt.title('Wet Meadow', fontsize=16)\n",
    "plt.stackplot(x, y3, y4, colors =['tab:blue','lightgray'], labels = ['Trait','Forcing']);\n",
    "plt.ylabel('Proportion of total variance', fontsize=16) \n",
    "plt.legend(fontsize=16,loc='upper right',bbox_to_anchor=(1.4, 1));\n",
    "plt.annotate('b)', xy=(2025, 0.05), \n",
    "                ha='center', va='center',size=20) ;\n",
    "plt.xlim([2022, 2099]);\n",
    "plt.ylim([0, 1]);\n",
    "\n",
    "plt.subplot(3,1,3)\n",
    "plt.title('Dry Meadow', fontsize=16)\n",
    "plt.stackplot(x, y5, y6, colors =['tab:orange','lightgray'], labels = ['Trait','Forcing']);\n",
    "plt.ylabel('Proportion of total variance', fontsize=16) \n",
    "plt.legend(fontsize=16,loc='upper right',bbox_to_anchor=(1.4, 1));\n",
    "plt.xlabel('Year', fontsize=16) \n",
    "plt.annotate('c)', xy=(2025, 0.05), \n",
    "                ha='center', va='center',size=20) ;\n",
    "plt.xlim([2022, 2099]);\n",
    "plt.ylim([0, 1]);\n",
    "     \n",
    "    #axs[i].annotate(panel2[i], xy=(0.05, 27), \n",
    "     #           ha='center', va='center',fontsize=16)  \n",
    "#plt.savefig(out_dir+'Fig6a.pdf', bbox_inches='tight');"
   ]
  },
  {
   "cell_type": "code",
   "execution_count": null,
   "id": "014b314c-740c-498f-a4d5-ff9dc42bd3f1",
   "metadata": {},
   "outputs": [],
   "source": [
    "# do the same for ANPP"
   ]
  },
  {
   "cell_type": "code",
   "execution_count": 45,
   "id": "c7dae391-7120-440b-a9f1-eac0f4602e52",
   "metadata": {},
   "outputs": [],
   "source": [
    "col_names_AGNPP = ['MM_s2_trait_AGNPP','WM_s2_trait_AGNPP','DM_s2_trait_AGNPP']\n",
    "row_names_AGNPP = np.arange(2022, 2100)\n",
    "ds_s2_trait_AGNPP = pd.DataFrame(s2_trait_AGNPP,  index=row_names_AGNPP, columns=col_names_AGNPP)\n"
   ]
  },
  {
   "cell_type": "code",
   "execution_count": 46,
   "id": "0f32de2c-e26d-4067-913c-1cec8e41dd25",
   "metadata": {},
   "outputs": [],
   "source": [
    "col_names_AGNPP = ['MM_s2_clim_AGNPP','WM_s2_clim_AGNPP','DM_s2_clim_AGNPP']\n",
    "row_names_AGNPP = np.arange(2022, 2100)\n",
    "ds_s2_clim_AGNPP = pd.DataFrame(s2_clim_AGNPP,  index=row_names_AGNPP, columns=col_names_AGNPP)"
   ]
  },
  {
   "cell_type": "code",
   "execution_count": 47,
   "id": "f35ee15a-6c42-4511-9b96-7ccbd08b5d06",
   "metadata": {},
   "outputs": [],
   "source": [
    "col_names_AGNPP = ['MM_s2_total_AGNPP','WM_s2_total_AGNPP','DM_s2_total_AGNPP']\n",
    "row_names_AGNPP = np.arange(2022, 2100)\n",
    "ds_s2_total_AGNPP = pd.DataFrame(s2_total_AGNPP,  index=row_names_AGNPP, columns=col_names_AGNPP)"
   ]
  },
  {
   "cell_type": "code",
   "execution_count": 48,
   "id": "fd9906f8-618b-4ae5-90d4-fac6a121f7a5",
   "metadata": {},
   "outputs": [],
   "source": [
    "col_names_AGNPP = ['MM_s2_clim_prop_AGNPP','WM_s2_clim_prop_AGNPP','DM_s2_clim_prop_AGNPP']\n",
    "row_names_AGNPP = np.arange(2022, 2100)\n",
    "ds_s2_clim_prop_AGNPP = pd.DataFrame(s2_clim_prop_AGNPP,  index=row_names_AGNPP, columns=col_names_AGNPP)"
   ]
  },
  {
   "cell_type": "code",
   "execution_count": 49,
   "id": "16ef5fd3-5049-43c4-8791-49da66a352d7",
   "metadata": {},
   "outputs": [],
   "source": [
    "col_names_AGNPP = ['MM_s2_trait_prop_AGNPP','WM_s2_trait_prop_AGNPP','DM_s2_trait_prop_AGNPP']\n",
    "row_names_AGNPP = np.arange(2022, 2100)\n",
    "ds_s2_trait_prop_AGNPP = pd.DataFrame(s2_trait_prop_AGNPP,  index=row_names_AGNPP, columns=col_names_AGNPP)"
   ]
  },
  {
   "cell_type": "code",
   "execution_count": 50,
   "id": "3e905067-b8c8-4e98-8b56-94232d51fc9e",
   "metadata": {},
   "outputs": [],
   "source": [
    "ds_AGNPP = pd.concat([ds_s2_total_AGNPP, ds_s2_trait_AGNPP, ds_s2_clim_AGNPP, ds_s2_clim_prop_AGNPP, ds_s2_trait_prop_AGNPP], axis=1)"
   ]
  },
  {
   "cell_type": "code",
   "execution_count": 52,
   "id": "a182edf1-3dc0-4329-9c6f-f22a183ee393",
   "metadata": {},
   "outputs": [
    {
     "data": {
      "text/html": [
       "<div>\n",
       "<style scoped>\n",
       "    .dataframe tbody tr th:only-of-type {\n",
       "        vertical-align: middle;\n",
       "    }\n",
       "\n",
       "    .dataframe tbody tr th {\n",
       "        vertical-align: top;\n",
       "    }\n",
       "\n",
       "    .dataframe thead th {\n",
       "        text-align: right;\n",
       "    }\n",
       "</style>\n",
       "<table border=\"1\" class=\"dataframe\">\n",
       "  <thead>\n",
       "    <tr style=\"text-align: right;\">\n",
       "      <th></th>\n",
       "      <th>MM_s2_total_AGNPP</th>\n",
       "      <th>WM_s2_total_AGNPP</th>\n",
       "      <th>DM_s2_total_AGNPP</th>\n",
       "      <th>MM_s2_trait_AGNPP</th>\n",
       "      <th>WM_s2_trait_AGNPP</th>\n",
       "      <th>DM_s2_trait_AGNPP</th>\n",
       "      <th>MM_s2_clim_AGNPP</th>\n",
       "      <th>WM_s2_clim_AGNPP</th>\n",
       "      <th>DM_s2_clim_AGNPP</th>\n",
       "      <th>MM_s2_clim_prop_AGNPP</th>\n",
       "      <th>WM_s2_clim_prop_AGNPP</th>\n",
       "      <th>DM_s2_clim_prop_AGNPP</th>\n",
       "      <th>MM_s2_trait_prop_AGNPP</th>\n",
       "      <th>WM_s2_trait_prop_AGNPP</th>\n",
       "      <th>DM_s2_trait_prop_AGNPP</th>\n",
       "    </tr>\n",
       "  </thead>\n",
       "  <tbody>\n",
       "    <tr>\n",
       "      <th>2022</th>\n",
       "      <td>0.000005</td>\n",
       "      <td>0.000039</td>\n",
       "      <td>7.595693e-07</td>\n",
       "      <td>0.000000</td>\n",
       "      <td>8.003553e-09</td>\n",
       "      <td>1.438821e-09</td>\n",
       "      <td>0.000005</td>\n",
       "      <td>0.000039</td>\n",
       "      <td>7.597882e-07</td>\n",
       "      <td>0.999997</td>\n",
       "      <td>0.999389</td>\n",
       "      <td>1.000288</td>\n",
       "      <td>0.000000</td>\n",
       "      <td>0.000205</td>\n",
       "      <td>0.001894</td>\n",
       "    </tr>\n",
       "    <tr>\n",
       "      <th>2023</th>\n",
       "      <td>1.339563</td>\n",
       "      <td>14.189656</td>\n",
       "      <td>1.451080e+00</td>\n",
       "      <td>1.284540</td>\n",
       "      <td>1.389794e+01</td>\n",
       "      <td>1.450907e+00</td>\n",
       "      <td>0.055024</td>\n",
       "      <td>0.291720</td>\n",
       "      <td>1.724018e-04</td>\n",
       "      <td>0.041076</td>\n",
       "      <td>0.020559</td>\n",
       "      <td>0.000119</td>\n",
       "      <td>0.958924</td>\n",
       "      <td>0.979442</td>\n",
       "      <td>0.999881</td>\n",
       "    </tr>\n",
       "    <tr>\n",
       "      <th>2024</th>\n",
       "      <td>1.584359</td>\n",
       "      <td>24.781693</td>\n",
       "      <td>7.725769e+00</td>\n",
       "      <td>1.283015</td>\n",
       "      <td>2.110329e+01</td>\n",
       "      <td>7.720065e+00</td>\n",
       "      <td>0.301342</td>\n",
       "      <td>3.678414</td>\n",
       "      <td>5.703204e-03</td>\n",
       "      <td>0.190198</td>\n",
       "      <td>0.148433</td>\n",
       "      <td>0.000738</td>\n",
       "      <td>0.809801</td>\n",
       "      <td>0.851568</td>\n",
       "      <td>0.999262</td>\n",
       "    </tr>\n",
       "    <tr>\n",
       "      <th>2025</th>\n",
       "      <td>0.569256</td>\n",
       "      <td>17.507999</td>\n",
       "      <td>1.337433e+01</td>\n",
       "      <td>0.253589</td>\n",
       "      <td>1.368180e+01</td>\n",
       "      <td>1.334044e+01</td>\n",
       "      <td>0.315669</td>\n",
       "      <td>3.826210</td>\n",
       "      <td>3.389041e-02</td>\n",
       "      <td>0.554528</td>\n",
       "      <td>0.218541</td>\n",
       "      <td>0.002534</td>\n",
       "      <td>0.445474</td>\n",
       "      <td>0.781460</td>\n",
       "      <td>0.997466</td>\n",
       "    </tr>\n",
       "    <tr>\n",
       "      <th>2026</th>\n",
       "      <td>0.519771</td>\n",
       "      <td>8.571170</td>\n",
       "      <td>2.282887e+01</td>\n",
       "      <td>0.030904</td>\n",
       "      <td>6.235298e+00</td>\n",
       "      <td>2.276048e+01</td>\n",
       "      <td>0.488867</td>\n",
       "      <td>2.335856</td>\n",
       "      <td>6.838793e-02</td>\n",
       "      <td>0.940543</td>\n",
       "      <td>0.272525</td>\n",
       "      <td>0.002996</td>\n",
       "      <td>0.059458</td>\n",
       "      <td>0.727473</td>\n",
       "      <td>0.997004</td>\n",
       "    </tr>\n",
       "    <tr>\n",
       "      <th>...</th>\n",
       "      <td>...</td>\n",
       "      <td>...</td>\n",
       "      <td>...</td>\n",
       "      <td>...</td>\n",
       "      <td>...</td>\n",
       "      <td>...</td>\n",
       "      <td>...</td>\n",
       "      <td>...</td>\n",
       "      <td>...</td>\n",
       "      <td>...</td>\n",
       "      <td>...</td>\n",
       "      <td>...</td>\n",
       "      <td>...</td>\n",
       "      <td>...</td>\n",
       "      <td>...</td>\n",
       "    </tr>\n",
       "    <tr>\n",
       "      <th>2095</th>\n",
       "      <td>33.730972</td>\n",
       "      <td>224.078003</td>\n",
       "      <td>2.718390e+01</td>\n",
       "      <td>2.861120</td>\n",
       "      <td>3.214546e+00</td>\n",
       "      <td>1.549532e+01</td>\n",
       "      <td>30.869854</td>\n",
       "      <td>220.863373</td>\n",
       "      <td>1.168857e+01</td>\n",
       "      <td>0.915178</td>\n",
       "      <td>0.985654</td>\n",
       "      <td>0.429982</td>\n",
       "      <td>0.084822</td>\n",
       "      <td>0.014346</td>\n",
       "      <td>0.570018</td>\n",
       "    </tr>\n",
       "    <tr>\n",
       "      <th>2096</th>\n",
       "      <td>65.827393</td>\n",
       "      <td>302.267700</td>\n",
       "      <td>4.160683e+01</td>\n",
       "      <td>2.224003</td>\n",
       "      <td>7.438395e-01</td>\n",
       "      <td>1.962080e+01</td>\n",
       "      <td>63.603371</td>\n",
       "      <td>301.523682</td>\n",
       "      <td>2.198602e+01</td>\n",
       "      <td>0.966214</td>\n",
       "      <td>0.997539</td>\n",
       "      <td>0.528423</td>\n",
       "      <td>0.033785</td>\n",
       "      <td>0.002461</td>\n",
       "      <td>0.471577</td>\n",
       "    </tr>\n",
       "    <tr>\n",
       "      <th>2097</th>\n",
       "      <td>67.494476</td>\n",
       "      <td>255.394394</td>\n",
       "      <td>6.304799e+01</td>\n",
       "      <td>2.544968</td>\n",
       "      <td>1.415210e+00</td>\n",
       "      <td>3.028931e+01</td>\n",
       "      <td>64.949509</td>\n",
       "      <td>253.979218</td>\n",
       "      <td>3.275866e+01</td>\n",
       "      <td>0.962294</td>\n",
       "      <td>0.994459</td>\n",
       "      <td>0.519583</td>\n",
       "      <td>0.037706</td>\n",
       "      <td>0.005541</td>\n",
       "      <td>0.480417</td>\n",
       "    </tr>\n",
       "    <tr>\n",
       "      <th>2098</th>\n",
       "      <td>63.261211</td>\n",
       "      <td>152.543625</td>\n",
       "      <td>6.566724e+01</td>\n",
       "      <td>4.154638</td>\n",
       "      <td>6.903850e-01</td>\n",
       "      <td>3.298544e+01</td>\n",
       "      <td>59.106571</td>\n",
       "      <td>151.853363</td>\n",
       "      <td>3.268181e+01</td>\n",
       "      <td>0.934326</td>\n",
       "      <td>0.995475</td>\n",
       "      <td>0.497688</td>\n",
       "      <td>0.065674</td>\n",
       "      <td>0.004526</td>\n",
       "      <td>0.502312</td>\n",
       "    </tr>\n",
       "    <tr>\n",
       "      <th>2099</th>\n",
       "      <td>91.547661</td>\n",
       "      <td>187.513992</td>\n",
       "      <td>7.528951e+01</td>\n",
       "      <td>5.291921</td>\n",
       "      <td>7.836365e-01</td>\n",
       "      <td>3.691091e+01</td>\n",
       "      <td>86.255783</td>\n",
       "      <td>186.730270</td>\n",
       "      <td>3.837859e+01</td>\n",
       "      <td>0.942195</td>\n",
       "      <td>0.995820</td>\n",
       "      <td>0.509747</td>\n",
       "      <td>0.057805</td>\n",
       "      <td>0.004179</td>\n",
       "      <td>0.490253</td>\n",
       "    </tr>\n",
       "  </tbody>\n",
       "</table>\n",
       "<p>78 rows × 15 columns</p>\n",
       "</div>"
      ],
      "text/plain": [
       "      MM_s2_total_AGNPP  WM_s2_total_AGNPP  DM_s2_total_AGNPP  \\\n",
       "2022           0.000005           0.000039       7.595693e-07   \n",
       "2023           1.339563          14.189656       1.451080e+00   \n",
       "2024           1.584359          24.781693       7.725769e+00   \n",
       "2025           0.569256          17.507999       1.337433e+01   \n",
       "2026           0.519771           8.571170       2.282887e+01   \n",
       "...                 ...                ...                ...   \n",
       "2095          33.730972         224.078003       2.718390e+01   \n",
       "2096          65.827393         302.267700       4.160683e+01   \n",
       "2097          67.494476         255.394394       6.304799e+01   \n",
       "2098          63.261211         152.543625       6.566724e+01   \n",
       "2099          91.547661         187.513992       7.528951e+01   \n",
       "\n",
       "      MM_s2_trait_AGNPP  WM_s2_trait_AGNPP  DM_s2_trait_AGNPP  \\\n",
       "2022           0.000000       8.003553e-09       1.438821e-09   \n",
       "2023           1.284540       1.389794e+01       1.450907e+00   \n",
       "2024           1.283015       2.110329e+01       7.720065e+00   \n",
       "2025           0.253589       1.368180e+01       1.334044e+01   \n",
       "2026           0.030904       6.235298e+00       2.276048e+01   \n",
       "...                 ...                ...                ...   \n",
       "2095           2.861120       3.214546e+00       1.549532e+01   \n",
       "2096           2.224003       7.438395e-01       1.962080e+01   \n",
       "2097           2.544968       1.415210e+00       3.028931e+01   \n",
       "2098           4.154638       6.903850e-01       3.298544e+01   \n",
       "2099           5.291921       7.836365e-01       3.691091e+01   \n",
       "\n",
       "      MM_s2_clim_AGNPP  WM_s2_clim_AGNPP  DM_s2_clim_AGNPP  \\\n",
       "2022          0.000005          0.000039      7.597882e-07   \n",
       "2023          0.055024          0.291720      1.724018e-04   \n",
       "2024          0.301342          3.678414      5.703204e-03   \n",
       "2025          0.315669          3.826210      3.389041e-02   \n",
       "2026          0.488867          2.335856      6.838793e-02   \n",
       "...                ...               ...               ...   \n",
       "2095         30.869854        220.863373      1.168857e+01   \n",
       "2096         63.603371        301.523682      2.198602e+01   \n",
       "2097         64.949509        253.979218      3.275866e+01   \n",
       "2098         59.106571        151.853363      3.268181e+01   \n",
       "2099         86.255783        186.730270      3.837859e+01   \n",
       "\n",
       "      MM_s2_clim_prop_AGNPP  WM_s2_clim_prop_AGNPP  DM_s2_clim_prop_AGNPP  \\\n",
       "2022               0.999997               0.999389               1.000288   \n",
       "2023               0.041076               0.020559               0.000119   \n",
       "2024               0.190198               0.148433               0.000738   \n",
       "2025               0.554528               0.218541               0.002534   \n",
       "2026               0.940543               0.272525               0.002996   \n",
       "...                     ...                    ...                    ...   \n",
       "2095               0.915178               0.985654               0.429982   \n",
       "2096               0.966214               0.997539               0.528423   \n",
       "2097               0.962294               0.994459               0.519583   \n",
       "2098               0.934326               0.995475               0.497688   \n",
       "2099               0.942195               0.995820               0.509747   \n",
       "\n",
       "      MM_s2_trait_prop_AGNPP  WM_s2_trait_prop_AGNPP  DM_s2_trait_prop_AGNPP  \n",
       "2022                0.000000                0.000205                0.001894  \n",
       "2023                0.958924                0.979442                0.999881  \n",
       "2024                0.809801                0.851568                0.999262  \n",
       "2025                0.445474                0.781460                0.997466  \n",
       "2026                0.059458                0.727473                0.997004  \n",
       "...                      ...                     ...                     ...  \n",
       "2095                0.084822                0.014346                0.570018  \n",
       "2096                0.033785                0.002461                0.471577  \n",
       "2097                0.037706                0.005541                0.480417  \n",
       "2098                0.065674                0.004526                0.502312  \n",
       "2099                0.057805                0.004179                0.490253  \n",
       "\n",
       "[78 rows x 15 columns]"
      ]
     },
     "execution_count": 52,
     "metadata": {},
     "output_type": "execute_result"
    }
   ],
   "source": [
    "ds_AGNPP"
   ]
  },
  {
   "cell_type": "code",
   "execution_count": 51,
   "id": "01017d5f-1d02-4783-b35a-46bbd7e9fa51",
   "metadata": {},
   "outputs": [
    {
     "data": {
      "image/png": "[encoded data removed]",
      "text/plain": [
       "<Figure size 432x1296 with 3 Axes>"
      ]
     },
     "metadata": {
      "needs_background": "light"
     },
     "output_type": "display_data"
    }
   ],
   "source": [
    "x=np.arange(2022, 2100)\n",
    "\n",
    "y1=ds_AGNPP.MM_s2_trait_prop_AGNPP\n",
    "y2=ds_AGNPP.MM_s2_clim_prop_AGNPP\n",
    "\n",
    "y3=ds_AGNPP.WM_s2_trait_prop_AGNPP\n",
    "y4=ds_AGNPP.WM_s2_clim_prop_AGNPP\n",
    "\n",
    "y5=ds_AGNPP.DM_s2_trait_prop_AGNPP\n",
    "y6=ds_AGNPP.DM_s2_clim_prop_AGNPP\n",
    "\n",
    "fig, axs = plt.subplots(3, 1,  gridspec_kw={'wspace': 0.15, 'hspace': 0.15}, figsize=(6,18))\n",
    "\n",
    "plt.subplot(3,1,1)\n",
    "plt.title('Moist Meadow', fontsize=20)\n",
    "plt.stackplot(x, y1, y2, colors =['tab:green','lightgray'], labels = ['Trait','Forcing']);\n",
    "plt.annotate('d)', xy=(2025, 0.05), \n",
    "                ha='center', va='center',size=20) \n",
    "plt.legend(fontsize=16,loc='upper right',bbox_to_anchor=(1.4, 1));\n",
    "plt.xlim([2022, 2099]);\n",
    "plt.ylim([0, 1]);\n",
    "\n",
    "plt.subplot(3,1,2)\n",
    "plt.title('Wet Meadow', fontsize=20)\n",
    "plt.stackplot(x, y3, y4, colors =['tab:blue','lightgray'], labels = ['Trait','Forcing']);\n",
    "plt.ylabel('Proportion of total variance', fontsize=20) \n",
    "plt.annotate('e)', xy=(2025, 0.05), \n",
    "                ha='center', va='center',size=20) \n",
    "plt.legend(fontsize=16,loc='upper right',bbox_to_anchor=(1.4, 1));\n",
    "plt.xlim([2022, 2099]);\n",
    "plt.ylim([0, 1]);\n",
    "\n",
    "plt.subplot(3,1,3)\n",
    "plt.title('Dry Meadow', fontsize=20)\n",
    "plt.stackplot(x, y5, y6, colors =['tab:orange','lightgray'], labels = ['Trait','Forcing']);\n",
    "plt.legend(fontsize=16,loc='upper right',bbox_to_anchor=(1.4, 1));\n",
    "plt.xlabel('Year', fontsize=20) \n",
    "plt.annotate('f)', xy=(2025, 0.05), \n",
    "                ha='center', va='center',size=20) \n",
    "plt.xlim([2022, 2099]);\n",
    "plt.ylim([0, 1]);\n",
    "\n",
    "#plt.savefig(out_dir+'Fig6b.pdf', bbox_inches='tight');"
   ]
  }
 ],
 "metadata": {
  "kernelspec": {
   "display_name": "Python [conda env:miniconda-ctsm-py]",
   "language": "python",
   "name": "conda-env-miniconda-ctsm-py-py"
  },
  "language_info": {
   "codemirror_mode": {
    "name": "ipython",
    "version": 3
   },
   "file_extension": ".py",
   "mimetype": "text/x-python",
   "name": "python",
   "nbconvert_exporter": "python",
   "pygments_lexer": "ipython3",
   "version": "3.7.10"
  }
 },
 "nbformat": 4,
 "nbformat_minor": 5
}
